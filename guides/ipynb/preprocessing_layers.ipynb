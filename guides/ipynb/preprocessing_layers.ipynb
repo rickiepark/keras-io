{
 "cells": [
  {
   "cell_type": "markdown",
   "metadata": {
    "colab_type": "text"
   },
   "source": [
    "# Working with preprocessing layers\n",
    "\n",
    "**Authors:** Francois Chollet, Mark Omernick<br>\n",
    "**Date created:** 2020/07/25<br>\n",
    "**Last modified:** 2020/07/25<br>\n",
    "**Description:** Overview of how to leverage preprocessing layers to create end-to-end models."
   ]
  },
  {
   "cell_type": "markdown",
   "metadata": {
    "colab_type": "text"
   },
   "source": [
    "## Keras preprocessing layers\n",
    "\n",
    "The Keras preprocessing layers API allows developers to build Keras-native input\n",
    "processing pipelines. These input processing pipelines can be used as independent\n",
    "preprocessing code in non-Keras workflows, combined directly with Keras models, and\n",
    "exported as part of a Keras SavedModel.\n",
    "\n",
    "With Keras preprocessing layers, you can build and export models that are truly\n",
    "end-to-end: models that accept raw images or raw structured data as input; models that\n",
    "handle feature normalization or feature value indexing on their own."
   ]
  },
  {
   "cell_type": "markdown",
   "metadata": {
    "colab_type": "text"
   },
   "source": [
    "## Available preprocessing layers\n",
    "\n",
    "### Core preprocessing layers\n",
    "\n",
    "- `TextVectorization` layer: turns raw strings into an encoded representation that can be\n",
    "read by an `Embedding` layer or `Dense` layer.\n",
    "- `Normalization` layer: performs feature-wise normalize of input features.\n",
    "\n",
    "### Structured data preprocessing layers\n",
    "\n",
    "These layers are for structured data encoding and feature engineering.\n",
    "\n",
    "- `CategoryEncoding` layer: turns integer categorical features into one-hot, multi-hot,\n",
    "or TF-IDF dense representations.\n",
    "- `Hashing` layer: performs categorical feature hashing, also known as the \"hashing\n",
    "trick\".\n",
    "- `Discretization` layer: turns continuous numerical features into integer categorical\n",
    "features.\n",
    "- `StringLookup` layer: turns string categorical values into integers indices.\n",
    "- `IntegerLookup` layer: turns integer categorical values into integers indices.\n",
    "- `CategoryCrossing` layer: combines categorical features into co-occurrence features.\n",
    "E.g. if you have feature values \"a\" and \"b\", it can provide with the combination feature\n",
    "\"a and b are present at the same time\".\n",
    "\n",
    "### Image preprocessing layers\n",
    "\n",
    "These layers are for standardizing the inputs of an image model.\n",
    "\n",
    "- `Resizing` layer: resizes a batch of images to a target size.\n",
    "- `Rescaling` layer: rescales and offsets the values of a batch of image (e.g. go from\n",
    "inputs in the `[0, 255]` range to inputs in the `[0, 1]` range.\n",
    "- `CenterCrop` layer: returns a center crop if a batch of images.\n",
    "\n",
    "### Image data augmentation layers\n",
    "\n",
    "These layers apply random augmentation transforms to a batch of images. They\n",
    "are only active during training.\n",
    "\n",
    "- `RandomCrop` layer\n",
    "- `RandomFlip` layer\n",
    "- `RandomTranslation` layer\n",
    "- `RandomRotation` layer\n",
    "- `RandomZoom` layer\n",
    "- `RandomHeight` layer\n",
    "- `RandomWidth` layer"
   ]
  },
  {
   "cell_type": "markdown",
   "metadata": {
    "colab_type": "text"
   },
   "source": [
    "## The `adapt()` method\n",
    "\n",
    "Some preprocessing layers have an internal state that must be computed based on\n",
    "a sample of the training data. The list of stateful preprocessing layers is:\n",
    "\n",
    "- `TextVectorization`: holds a mapping between string tokens and integer indices\n",
    "- `Normalization`: holds the mean and standard deviation of the features\n",
    "- `StringLookup` and `IntegerLookup`: hold a mapping between input values and output\n",
    "indices.\n",
    "- `CategoryEncoding`: holds an index of input values.\n",
    "- `Discretization`: holds information about value bucket boundaries.\n",
    "\n",
    "Crucially, these layers are **non-trainable**. Their state is not set during training; it\n",
    "must be set **before training**, a step called \"adaptation\".\n",
    "\n",
    "You set the state of a preprocessing layer by exposing it to training data, via the\n",
    "`adapt()` method:"
   ]
  },
  {
   "cell_type": "code",
   "execution_count": 0,
   "metadata": {
    "colab_type": "code"
   },
   "outputs": [],
   "source": [
    "import numpy as np\n",
    "import tensorflow as tf\n",
    "from tensorflow.keras.layers.experimental import preprocessing\n",
    "\n",
    "data = np.array([[0.1, 0.2, 0.3], [0.8, 0.9, 1.0], [1.5, 1.6, 1.7],])\n",
    "layer = preprocessing.Normalization()\n",
    "layer.adapt(data)\n",
    "normalized_data = layer(data)\n",
    "\n",
    "print(\"Features mean: %.2f\" % (normalized_data.numpy().mean()))\n",
    "print(\"Features std: %.2f\" % (normalized_data.numpy().std()))"
   ]
  },
  {
   "cell_type": "markdown",
   "metadata": {
    "colab_type": "text"
   },
   "source": [
    "The `adapt()` method takes either a Numpy array or a `tf.data.Dataset` object. In the\n",
    "case of `StringLookup` and `TextVectorization`, you can also pass a list of strings:"
   ]
  },
  {
   "cell_type": "code",
   "execution_count": 0,
   "metadata": {
    "colab_type": "code"
   },
   "outputs": [],
   "source": [
    "data = [\n",
    "    \"\u03be\u03b5\u1fd6\u03bd\u1fbd, \u1f26 \u03c4\u03bf\u03b9 \u03bc\u1f72\u03bd \u1f44\u03bd\u03b5\u03b9\u03c1\u03bf\u03b9 \u1f00\u03bc\u03ae\u03c7\u03b1\u03bd\u03bf\u03b9 \u1f00\u03ba\u03c1\u03b9\u03c4\u03cc\u03bc\u03c5\u03b8\u03bf\u03b9\",\n",
    "    \"\u03b3\u03af\u03b3\u03bd\u03bf\u03bd\u03c4\u1fbd, \u03bf\u1f50\u03b4\u03ad \u03c4\u03b9 \u03c0\u03ac\u03bd\u03c4\u03b1 \u03c4\u03b5\u03bb\u03b5\u03af\u03b5\u03c4\u03b1\u03b9 \u1f00\u03bd\u03b8\u03c1\u03ce\u03c0\u03bf\u03b9\u03c3\u03b9.\",\n",
    "    \"\u03b4\u03bf\u03b9\u03b1\u1f76 \u03b3\u03ac\u03c1 \u03c4\u03b5 \u03c0\u03cd\u03bb\u03b1\u03b9 \u1f00\u03bc\u03b5\u03bd\u03b7\u03bd\u1ff6\u03bd \u03b5\u1f30\u03c3\u1f76\u03bd \u1f40\u03bd\u03b5\u03af\u03c1\u03c9\u03bd:\",\n",
    "    \"\u03b1\u1f31 \u03bc\u1f72\u03bd \u03b3\u1f70\u03c1 \u03ba\u03b5\u03c1\u03ac\u03b5\u03c3\u03c3\u03b9 \u03c4\u03b5\u03c4\u03b5\u03cd\u03c7\u03b1\u03c4\u03b1\u03b9, \u03b1\u1f31 \u03b4\u1fbd \u1f10\u03bb\u03ad\u03c6\u03b1\u03bd\u03c4\u03b9:\",\n",
    "    \"\u03c4\u1ff6\u03bd \u03bf\u1f33 \u03bc\u03ad\u03bd \u03ba\u1fbd \u1f14\u03bb\u03b8\u03c9\u03c3\u03b9 \u03b4\u03b9\u1f70 \u03c0\u03c1\u03b9\u03c3\u03c4\u03bf\u1fe6 \u1f10\u03bb\u03ad\u03c6\u03b1\u03bd\u03c4\u03bf\u03c2,\",\n",
    "    \"\u03bf\u1f35 \u1fe5\u1fbd \u1f10\u03bb\u03b5\u03c6\u03b1\u03af\u03c1\u03bf\u03bd\u03c4\u03b1\u03b9, \u1f14\u03c0\u03b5\u1fbd \u1f00\u03ba\u03c1\u03ac\u03b1\u03bd\u03c4\u03b1 \u03c6\u03ad\u03c1\u03bf\u03bd\u03c4\u03b5\u03c2:\",\n",
    "    \"\u03bf\u1f31 \u03b4\u1f72 \u03b4\u03b9\u1f70 \u03be\u03b5\u03c3\u03c4\u1ff6\u03bd \u03ba\u03b5\u03c1\u03ac\u03c9\u03bd \u1f14\u03bb\u03b8\u03c9\u03c3\u03b9 \u03b8\u03cd\u03c1\u03b1\u03b6\u03b5,\",\n",
    "    \"\u03bf\u1f35 \u1fe5\u1fbd \u1f14\u03c4\u03c5\u03bc\u03b1 \u03ba\u03c1\u03b1\u03af\u03bd\u03bf\u03c5\u03c3\u03b9, \u03b2\u03c1\u03bf\u03c4\u1ff6\u03bd \u1f45\u03c4\u03b5 \u03ba\u03ad\u03bd \u03c4\u03b9\u03c2 \u1f34\u03b4\u03b7\u03c4\u03b1\u03b9.\",\n",
    "]\n",
    "layer = preprocessing.TextVectorization()\n",
    "layer.adapt(data)\n",
    "vectorized_text = layer(data)\n",
    "print(vectorized_text)"
   ]
  },
  {
   "cell_type": "markdown",
   "metadata": {
    "colab_type": "text"
   },
   "source": [
    "In addition, adaptable layers always expose an option to directly set state via\n",
    "constructor arguments or weight assignment. If the intended state values are known at\n",
    "layer construction time, or are calculated outside of the `adapt()` call, they can be set\n",
    "without relying on the layer's internal computation. For instance, if external vocabulary\n",
    "files for the `TextVectorization`, `StringLookup`, or `IntegerLookup` layers already\n",
    "exist, those can be loaded directly into the lookup tables by passing a path to the\n",
    "vocabulary file in the layer's constructor arguments.\n",
    "\n",
    "Here's an example where we instantiate a `StringLookup` layer with precomputed vocabulary:"
   ]
  },
  {
   "cell_type": "code",
   "execution_count": 0,
   "metadata": {
    "colab_type": "code"
   },
   "outputs": [],
   "source": [
    "vocab = [\"a\", \"b\", \"c\", \"d\"]\n",
    "data = tf.constant([[\"a\", \"c\", \"d\"], [\"d\", \"z\", \"b\"]])\n",
    "layer = preprocessing.StringLookup(vocabulary=vocab)\n",
    "vectorized_data = layer(data)\n",
    "print(vectorized_data)"
   ]
  },
  {
   "cell_type": "markdown",
   "metadata": {
    "colab_type": "text"
   },
   "source": [
    "## Preprocessing data before the model or inside the model\n",
    "\n",
    "There are two ways you could be using preprocessing layers:\n",
    "\n",
    "**Option 1:** Make them part of the model, like this:\n",
    "\n",
    "```python\n",
    "inputs = keras.Input(shape=input_shape)\n",
    "x = preprocessing_layer(inputs)\n",
    "outputs = rest_of_the_model(x)\n",
    "model = keras.Model(inputs, outputs)\n",
    "```\n",
    "\n",
    "With this option, preprocessing will happen on device, synchronously with the rest of the\n",
    "model execution, meaning that it will benefit from GPU acceleration.\n",
    "If you're training on GPU, this is the best option for the `Normalization` layer, and for\n",
    "all image preprocessing and data augmentation layers.\n",
    "\n",
    "**Option 2:** apply it to your `tf.data.Dataset`, so as to obtain a dataset that yields\n",
    "batches of preprocessed data, like this:\n",
    "\n",
    "```python\n",
    "dataset = dataset.map(\n",
    "  lambda x, y: (preprocessing_layer(x), y))\n",
    "```\n",
    "\n",
    "With this option, your preprocessing will happen on CPU, asynchronously, and will be\n",
    "buffered before going into the model.\n",
    "\n",
    "This is the best option for `TextVectorization`, and all structured data preprocessing\n",
    "layers. It can also be a good option if you're training on CPU\n",
    "and you use image preprocessing layers."
   ]
  },
  {
   "cell_type": "markdown",
   "metadata": {
    "colab_type": "text"
   },
   "source": [
    "## Benefits of doing preprocessing inside the model at inference time\n",
    "\n",
    "Even if you go with option 2, you may later want to export an inference-only end-to-end\n",
    "model that will include the preprocessing layers. The key benefit to doing this is that\n",
    "**it makes your model portable** and it **helps reduce the\n",
    "[training/serving skew](https://developers.google.com/machine-learning/guides/rules-of-ml#training-serving_skew)**.\n",
    "\n",
    "When all data preprocessing is part of the model, other people can load and use your\n",
    "model without having to be aware of how each feature is expected to be encoded &\n",
    "normalized. Your inference model will be able to process raw images or raw structured\n",
    "data, and will not require users of the model to be aware of the details of e.g. the\n",
    "tokenization scheme used for text, the indexing scheme used for categorical features,\n",
    "whether image pixel values are normalized to `[-1, +1]` or to `[0, 1]`, etc. This is\n",
    "especially powerful if you're exporting\n",
    "your model to another runtime, such as TensorFlow.js: you won't have to\n",
    "reimplement your preprocessing pipeline in JavaScript.\n",
    "\n",
    "If you initially put your preprocessing layers in your `tf.data` pipeline,\n",
    "you can export an inference model that packages the preprocessing.\n",
    "Simply instantiate a new model that chains\n",
    "your preprocessing layers and your training model:\n",
    "\n",
    "```python\n",
    "inputs = keras.Input(shape=input_shape)\n",
    "x = preprocessing_layer(inputs)\n",
    "outputs = training_model(x)\n",
    "infernece_model = keras.Model(inputs, outputs)\n",
    "```"
   ]
  },
  {
   "cell_type": "markdown",
   "metadata": {
    "colab_type": "text"
   },
   "source": [
    "## Quick recipes\n",
    "\n",
    "### Image data augmentation (on-device)\n",
    "\n",
    "Note that image data augmentation layers are only active during training (similarly to\n",
    "the `Dropout` layer)."
   ]
  },
  {
   "cell_type": "code",
   "execution_count": 0,
   "metadata": {
    "colab_type": "code"
   },
   "outputs": [],
   "source": [
    "from tensorflow import keras\n",
    "from tensorflow.keras import layers\n",
    "\n",
    "# Create a data augmentation stage with horizontal flipping, rotations, zooms\n",
    "data_augmentation = keras.Sequential(\n",
    "    [\n",
    "        preprocessing.RandomFlip(\"horizontal\"),\n",
    "        preprocessing.RandomRotation(0.1),\n",
    "        preprocessing.RandomZoom(0.1),\n",
    "    ]\n",
    ")\n",
    "\n",
    "# Create a model that includes the augmentation stage\n",
    "input_shape = (32, 32, 3)\n",
    "classes = 10\n",
    "inputs = keras.Input(shape=input_shape)\n",
    "# Augment images\n",
    "x = data_augmentation(inputs)\n",
    "# Rescale image values to [0, 1]\n",
    "x = preprocessing.Rescaling(1.0 / 255)(x)\n",
    "# Add the rest of the model\n",
    "outputs = keras.applications.ResNet50(\n",
    "    weights=None, input_shape=input_shape, classes=classes\n",
    ")(x)\n",
    "model = keras.Model(inputs, outputs)"
   ]
  },
  {
   "cell_type": "markdown",
   "metadata": {
    "colab_type": "text"
   },
   "source": [
    "You can see a similar setup in action in the example\n",
    "[image classification from scratch](https://keras.io/examples/vision/image_classification_from_scratch/)."
   ]
  },
  {
   "cell_type": "markdown",
   "metadata": {
    "colab_type": "text"
   },
   "source": [
    "### Normalizing numerical features"
   ]
  },
  {
   "cell_type": "code",
   "execution_count": 0,
   "metadata": {
    "colab_type": "code"
   },
   "outputs": [],
   "source": [
    "# Load some data\n",
    "(x_train, y_train), _ = keras.datasets.cifar10.load_data()\n",
    "x_train = x_train.reshape((len(x_train), -1))\n",
    "input_shape = x_train.shape[1:]\n",
    "classes = 10\n",
    "\n",
    "# Create a Normalization layer and set its internal state using the training data\n",
    "normalizer = preprocessing.Normalization()\n",
    "normalizer.adapt(x_train)\n",
    "\n",
    "# Create a model that include the normalization layer\n",
    "inputs = keras.Input(shape=input_shape)\n",
    "x = normalizer(inputs)\n",
    "outputs = layers.Dense(classes, activation=\"softmax\")(x)\n",
    "model = keras.Model(inputs, outputs)\n",
    "\n",
    "# Train the model\n",
    "model.compile(optimizer=\"adam\", loss=\"sparse_categorical_crossentropy\")\n",
    "model.fit(x_train, y_train)"
   ]
  },
  {
   "cell_type": "markdown",
   "metadata": {
    "colab_type": "text"
   },
   "source": [
    "### Encoding string categorical features via one-hot encoding"
   ]
  },
  {
   "cell_type": "code",
   "execution_count": 0,
   "metadata": {
    "colab_type": "code"
   },
   "outputs": [],
   "source": [
    "# Define some toy data\n",
    "data = tf.constant([\"a\", \"b\", \"c\", \"b\", \"c\", \"a\"])\n",
    "\n",
    "# Use StringLookup to build an index of the feature values\n",
    "indexer = preprocessing.StringLookup()\n",
    "indexer.adapt(data)\n",
    "\n",
    "# Use CategoryEncoding to encode the integer indices to a one-hot vector\n",
    "encoder = preprocessing.CategoryEncoding(output_mode=\"binary\")\n",
    "encoder.adapt(indexer(data))\n",
    "\n",
    "# Convert new test data (which includes unknown feature values)\n",
    "test_data = tf.constant([\"a\", \"b\", \"c\", \"d\", \"e\", \"\"])\n",
    "encoded_data = encoder(indexer(test_data))\n",
    "print(encoded_data)"
   ]
  },
  {
   "cell_type": "markdown",
   "metadata": {
    "colab_type": "text"
   },
   "source": [
    "Note that index 0 is reserved for missing values (which you should specify as the empty\n",
    "string `\"\"`), and index 1 is reserved for out-of-vocabulary values (values that were not\n",
    "seen during `adapt()`). You can configure this by using the `mask_token` and `oov_token`\n",
    "constructor arguments  of `StringLookup`.\n",
    "\n",
    "You can see the `StringLookup` and `CategoryEncoding` layers in action in the example\n",
    "[structured data classification from scratch](https://keras.io/examples/structured_data/structured_data_classification_from_scratch/)."
   ]
  },
  {
   "cell_type": "markdown",
   "metadata": {
    "colab_type": "text"
   },
   "source": [
    "### Encoding integer categorical features via one-hot encoding"
   ]
  },
  {
   "cell_type": "code",
   "execution_count": 0,
   "metadata": {
    "colab_type": "code"
   },
   "outputs": [],
   "source": [
    "# Define some toy data\n",
    "data = tf.constant([10, 20, 20, 10, 30, 0])\n",
    "\n",
    "# Use IntegerLookup to build an index of the feature values\n",
    "indexer = preprocessing.IntegerLookup()\n",
    "indexer.adapt(data)\n",
    "\n",
    "# Use CategoryEncoding to encode the integer indices to a one-hot vector\n",
    "encoder = preprocessing.CategoryEncoding(output_mode=\"binary\")\n",
    "encoder.adapt(indexer(data))\n",
    "\n",
    "# Convert new test data (which includes unknown feature values)\n",
    "test_data = tf.constant([10, 10, 20, 50, 60, 0])\n",
    "encoded_data = encoder(indexer(test_data))\n",
    "print(encoded_data)"
   ]
  },
  {
   "cell_type": "markdown",
   "metadata": {
    "colab_type": "text"
   },
   "source": [
    "Note that index 0 is reserved for missing values (which you should specify as the value\n",
    "0), and index 1 is reserved for out-of-vocabulary values (values that were not seen\n",
    "during `adapt()`). You can configure this by using the `mask_value` and `oov_value`\n",
    "constructor arguments  of `IntegerLookup`.\n",
    "\n",
    "You can see the `IntegerLookup` and `CategoryEncoding` layers in action in the example\n",
    "[structured data classification from scratch](https://keras.io/examples/structured_data/structured_data_classification_from_scratch/)."
   ]
  },
  {
   "cell_type": "markdown",
   "metadata": {
    "colab_type": "text"
   },
   "source": [
    "### Applying the hashing trick to an integer categorical feature\n",
    "\n",
    "If you have a categorical feature that can take many different values (on the order of\n",
    "10e3 or higher), where each value only appears a few times in the data,\n",
    "it becomes impractical and ineffective to index and one-hot encode the feature values.\n",
    "Instead, it can be a good idea to apply the \"hashing trick\": hash the values to a vector\n",
    "of fixed size. This keeps the size of the feature space manageable, and removes the need\n",
    "for explicit indexing."
   ]
  },
  {
   "cell_type": "code",
   "execution_count": 0,
   "metadata": {
    "colab_type": "code"
   },
   "outputs": [],
   "source": [
    "# Sample data: 10,000 random integers with values between 0 and 100,000\n",
    "data = np.random.randint(0, 100000, size=(10000, 1))\n",
    "\n",
    "# Use the Hashing layer to hash the values to the range [0, 64]\n",
    "hasher = preprocessing.Hashing(num_bins=64, salt=1337)\n",
    "\n",
    "# Use the CategoryEncoding layer to one-hot encode the hashed values\n",
    "encoder = preprocessing.CategoryEncoding(max_tokens=64, output_mode=\"binary\")\n",
    "encoded_data = encoder(hasher(data))\n",
    "print(encoded_data.shape)"
   ]
  },
  {
   "cell_type": "markdown",
   "metadata": {
    "colab_type": "text"
   },
   "source": [
    "### Encoding text as a sequence of token indices\n",
    "\n",
    "This is how you should preprocess text to be passed to an `Embedding` layer."
   ]
  },
  {
   "cell_type": "code",
   "execution_count": 0,
   "metadata": {
    "colab_type": "code"
   },
   "outputs": [],
   "source": [
    "# Define some text data to adapt the layer\n",
    "data = tf.constant(\n",
    "    [\n",
    "        \"The Brain is wider than the Sky\",\n",
    "        \"For put them side by side\",\n",
    "        \"The one the other will contain\",\n",
    "        \"With ease and You beside\",\n",
    "    ]\n",
    ")\n",
    "# Instantiate TextVectorization with \"int\" output_mode\n",
    "text_vectorizer = preprocessing.TextVectorization(output_mode=\"int\")\n",
    "# Index the vocabulary via `adapt()`\n",
    "text_vectorizer.adapt(data)\n",
    "\n",
    "# You can retrieve the vocabulary we indexed via get_vocabulary()\n",
    "vocab = text_vectorizer.get_vocabulary()\n",
    "print(\"Vocabulary:\", vocab)\n",
    "\n",
    "# Create an Embedding + LSTM model\n",
    "inputs = keras.Input(shape=(1,), dtype=\"string\")\n",
    "x = text_vectorizer(inputs)\n",
    "x = layers.Embedding(input_dim=len(vocab), output_dim=64)(x)\n",
    "outputs = layers.LSTM(1)(x)\n",
    "model = keras.Model(inputs, outputs)\n",
    "\n",
    "# Call the model on test data (which includes unknown tokens)\n",
    "test_data = tf.constant([\"The Brain is deeper than the sea\"])\n",
    "test_output = model(test_data)"
   ]
  },
  {
   "cell_type": "markdown",
   "metadata": {
    "colab_type": "text"
   },
   "source": [
    "You can see the `TextVectorization` layer in action, combined with an `Embedding` mode,\n",
    "in the example\n",
    "[text classification from scratch](https://keras.io/examples/nlp/text_classification_from_scratch/).\n",
    "\n",
    "Note that when training such a model, for best performance, you should\n",
    "use the `TextVectorization` layer as part of the input pipeline (which is what we\n",
    "do in the text classification example above)."
   ]
  },
  {
   "cell_type": "markdown",
   "metadata": {
    "colab_type": "text"
   },
   "source": [
    "### Encoding text as a dense matrix of ngrams with multi-hot encoding\n",
    "\n",
    "This is how you should preprocess text to be passed to a `Dense` layer."
   ]
  },
  {
   "cell_type": "code",
   "execution_count": 0,
   "metadata": {
    "colab_type": "code"
   },
   "outputs": [],
   "source": [
    "# Define some text data to adapt the layer\n",
    "data = tf.constant(\n",
    "    [\n",
    "        \"The Brain is wider than the Sky\",\n",
    "        \"For put them side by side\",\n",
    "        \"The one the other will contain\",\n",
    "        \"With ease and You beside\",\n",
    "    ]\n",
    ")\n",
    "# Instantiate TextVectorization with \"binary\" output_mode (multi-hot)\n",
    "# and ngrams=2 (index all bigrams)\n",
    "text_vectorizer = preprocessing.TextVectorization(output_mode=\"binary\", ngrams=2)\n",
    "# Index the bigrams via `adapt()`\n",
    "text_vectorizer.adapt(data)\n",
    "\n",
    "print(\n",
    "    \"Encoded text:\\n\",\n",
    "    text_vectorizer([\"The Brain is deeper than the sea\"]).numpy(),\n",
    "    \"\\n\",\n",
    ")\n",
    "\n",
    "# Create a Dense model\n",
    "inputs = keras.Input(shape=(1,), dtype=\"string\")\n",
    "x = text_vectorizer(inputs)\n",
    "outputs = layers.Dense(1)(x)\n",
    "model = keras.Model(inputs, outputs)\n",
    "\n",
    "# Call the model on test data (which includes unknown tokens)\n",
    "test_data = tf.constant([\"The Brain is deeper than the sea\"])\n",
    "test_output = model(test_data)\n",
    "\n",
    "print(\"Model output:\", test_output)"
   ]
  },
  {
   "cell_type": "markdown",
   "metadata": {
    "colab_type": "text"
   },
   "source": [
    "### Encoding text as a dense matrix of ngrams with TF-IDF weighting\n",
    "\n",
    "This is an alternative way of preprocessing text before passing it to a `Dense` layer."
   ]
  },
  {
   "cell_type": "code",
   "execution_count": 0,
   "metadata": {
    "colab_type": "code"
   },
   "outputs": [],
   "source": [
    "# Define some text data to adapt the layer\n",
    "data = tf.constant(\n",
    "    [\n",
    "        \"The Brain is wider than the Sky\",\n",
    "        \"For put them side by side\",\n",
    "        \"The one the other will contain\",\n",
    "        \"With ease and You beside\",\n",
    "    ]\n",
    ")\n",
    "# Instantiate TextVectorization with \"tf-idf\" output_mode\n",
    "# (multi-hot with TF-IDF weighting) and ngrams=2 (index all bigrams)\n",
    "text_vectorizer = preprocessing.TextVectorization(output_mode=\"tf-idf\", ngrams=2)\n",
    "# Index the bigrams and learn the TF-IDF weights via `adapt()`\n",
    "text_vectorizer.adapt(data)\n",
    "\n",
    "print(\n",
    "    \"Encoded text:\\n\",\n",
    "    text_vectorizer([\"The Brain is deeper than the sea\"]).numpy(),\n",
    "    \"\\n\",\n",
    ")\n",
    "\n",
    "# Create a Dense model\n",
    "inputs = keras.Input(shape=(1,), dtype=\"string\")\n",
    "x = text_vectorizer(inputs)\n",
    "outputs = layers.Dense(1)(x)\n",
    "model = keras.Model(inputs, outputs)\n",
    "\n",
    "# Call the model on test data (which includes unknown tokens)\n",
    "test_data = tf.constant([\"The Brain is deeper than the sea\"])\n",
    "test_output = model(test_data)\n",
    "print(\"Model output:\", test_output)"
   ]
  }
 ],
 "metadata": {
  "colab": {
   "collapsed_sections": [],
   "name": "preprocessing_layers",
   "private_outputs": false,
   "provenance": [],
   "toc_visible": true
  },
  "kernelspec": {
   "display_name": "Python 3",
   "language": "python",
   "name": "python3"
  },
  "language_info": {
   "codemirror_mode": {
    "name": "ipython",
    "version": 3
   },
   "file_extension": ".py",
   "mimetype": "text/x-python",
   "name": "python",
   "nbconvert_exporter": "python",
   "pygments_lexer": "ipython3",
   "version": "3.7.0"
  }
 },
 "nbformat": 4,
 "nbformat_minor": 0
}